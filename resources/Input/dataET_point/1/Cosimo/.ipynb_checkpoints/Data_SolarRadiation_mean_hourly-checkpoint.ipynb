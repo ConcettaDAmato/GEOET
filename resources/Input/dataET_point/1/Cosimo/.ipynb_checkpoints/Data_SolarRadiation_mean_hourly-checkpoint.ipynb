{
 "cells": [
  {
   "cell_type": "markdown",
   "metadata": {},
   "source": [
    "# *Hourly Mean Solar Rdiation data*"
   ]
  },
  {
   "cell_type": "code",
   "execution_count": 1,
   "metadata": {
    "collapsed": false,
    "jupyter": {
     "outputs_hidden": false
    }
   },
   "outputs": [],
   "source": [
    "import os\n",
    "from pandas import *\n",
    "import numpy as np\n",
    "import pandas as pd\n",
    "import plotly.express as px\n",
    "import matplotlib.pyplot as plt\n",
    "%matplotlib inline\n",
    "import numpy as np\n",
    "import datetime as datetime\n",
    "from timeseries_writer import *\n",
    "project_path = os.path.dirname(os.getcwd())"
   ]
  },
  {
   "cell_type": "code",
   "execution_count": 3,
   "metadata": {},
   "outputs": [
    {
     "data": {
      "text/plain": [
       "['2_Output_GEOSPACE1DOlive_SoluteTransport_0512_04.ipynb',\n",
       " 'Pressure_cavalese_1718.csv',\n",
       " '.DS_Store',\n",
       " 'LAI_cavalese_1718.csv',\n",
       " 'Soil_moisture_cavalese_1718.csv',\n",
       " 'GHF_cavalese_1718.csv',\n",
       " 'Prospero.sim',\n",
       " '__pycache__',\n",
       " 'RH1hmean_cavalese_1718.csv',\n",
       " 'ShortwaveDiffuse_cavalese_1718.csv',\n",
       " 'wind_cavalese_1718.csv',\n",
       " 'ShortwaveDirect_cavalese_1718.csv',\n",
       " '.ipynb_checkpoints',\n",
       " 'airT_cavalese_1718.csv',\n",
       " 'timeseries_writer.py',\n",
       " 'Net_cavalese_1718.csv',\n",
       " 'Data_SolarRadiation_mean_hourly.ipynb',\n",
       " 'LongDownwelling_cavalese_1718.csv']"
      ]
     },
     "execution_count": 3,
     "metadata": {},
     "output_type": "execute_result"
    }
   ],
   "source": [
    "#os.chdir(project_path+\"/data/OliveTree/1\")\n",
    "os.listdir()"
   ]
  },
  {
   "cell_type": "markdown",
   "metadata": {},
   "source": [
    "### Open dataset"
   ]
  },
  {
   "cell_type": "code",
   "execution_count": 4,
   "metadata": {
    "collapsed": false,
    "jupyter": {
     "outputs_hidden": false
    }
   },
   "outputs": [
    {
     "name": "stderr",
     "output_type": "stream",
     "text": [
      "/Users/concettadamato/opt/anaconda3/envs/geoframe_parigi/lib/python3.7/site-packages/jupyter_client/session.py:718: UserWarning: Message serialization failed with:\n",
      "Out of range float values are not JSON compliant\n",
      "Supporting this message is deprecated in jupyter-client 7, please make sure your message is JSON-compliant\n",
      "  content = self.pack(content)\n"
     ]
    },
    {
     "data": {
      "application/vnd.jupyter.widget-view+json": {
       "model_id": "d4a1112ffec6424f88fbeb3507ee8786",
       "version_major": 2,
       "version_minor": 0
      }
     },
     "metadata": {},
     "output_type": "display_data"
    }
   ],
   "source": [
    "df_15min = pd.read_csv('airT_cavalese_1718.csv',skiprows=6,parse_dates=[1])\n",
    "df_15min = df_15min.drop(['Format'],axis=1) \n",
    "df_15min.columns = ['Time','Rad']\n",
    "df_15min.set_index('Time',inplace=True)\n",
    "df_15min"
   ]
  },
  {
   "cell_type": "markdown",
   "metadata": {},
   "source": [
    "### Extracting dataset"
   ]
  },
  {
   "cell_type": "markdown",
   "metadata": {},
   "source": [
    "If you want to select data by time, use this code"
   ]
  },
  {
   "cell_type": "markdown",
   "metadata": {},
   "source": [
    "#crei una serie temporale con le date orarie\n",
    "date_rng=pd.date_range(start='2018-05-10 00:00',end='2018-07-01 00:00',freq='1H')\n",
    "\n",
    "#crei il dataframe con le date\n",
    "df_dates = pd.DataFrame({'Time': date_rng})\n",
    "df_dates.set_index('Time',inplace=True)\n",
    "\n",
    "#estrai dal dataframe di 15 min le date che ti servono\n",
    "df_dates = df_dates.join(df_15min, how='inner')\n",
    "df_dates.head()"
   ]
  },
  {
   "cell_type": "markdown",
   "metadata": {},
   "source": [
    "If you want to create an hourly time series using the mean:"
   ]
  },
  {
   "cell_type": "code",
   "execution_count": 5,
   "metadata": {},
   "outputs": [
    {
     "data": {
      "application/vnd.jupyter.widget-view+json": {
       "model_id": "8e72f3e9fedc4acdafeb4fe133c4d125",
       "version_major": 2,
       "version_minor": 0
      }
     },
     "metadata": {},
     "output_type": "display_data"
    }
   ],
   "source": [
    "df=df_15min.resample('1H').mean()\n",
    "df"
   ]
  },
  {
   "cell_type": "code",
   "execution_count": 6,
   "metadata": {},
   "outputs": [],
   "source": [
    "ID_basin = 1"
   ]
  },
  {
   "cell_type": "code",
   "execution_count": 7,
   "metadata": {},
   "outputs": [
    {
     "data": {
      "application/vnd.jupyter.widget-view+json": {
       "model_id": "cdd0136c83984e848a65970df6df4de3",
       "version_major": 2,
       "version_minor": 0
      }
     },
     "metadata": {},
     "output_type": "display_data"
    }
   ],
   "source": [
    "df.reset_index(inplace=True)\n",
    "df"
   ]
  },
  {
   "cell_type": "code",
   "execution_count": 8,
   "metadata": {},
   "outputs": [
    {
     "data": {
      "application/vnd.jupyter.widget-view+json": {
       "model_id": "ab0c4b60092841b18251a41a0c2ffffa",
       "version_major": 2,
       "version_minor": 0
      }
     },
     "metadata": {},
     "output_type": "display_data"
    }
   ],
   "source": [
    "df.insert(loc=0, column='-', value=np.nan)\n",
    "df.head()"
   ]
  },
  {
   "cell_type": "code",
   "execution_count": 10,
   "metadata": {},
   "outputs": [
    {
     "name": "stdout",
     "output_type": "stream",
     "text": [
      "\n",
      "\n",
      "***SUCCESS writing!  airT_1.csv\n"
     ]
    }
   ],
   "source": [
    "write_timeseries_csv(df,'airT_1.csv',ID_basin)"
   ]
  },
  {
   "cell_type": "code",
   "execution_count": null,
   "metadata": {},
   "outputs": [],
   "source": []
  }
 ],
 "metadata": {
  "kernelspec": {
   "display_name": "Python 3 (ipykernel)",
   "language": "python",
   "name": "python3"
  },
  "language_info": {
   "codemirror_mode": {
    "name": "ipython",
    "version": 3
   },
   "file_extension": ".py",
   "mimetype": "text/x-python",
   "name": "python",
   "nbconvert_exporter": "python",
   "pygments_lexer": "ipython3",
   "version": "3.7.12"
  }
 },
 "nbformat": 4,
 "nbformat_minor": 4
}
