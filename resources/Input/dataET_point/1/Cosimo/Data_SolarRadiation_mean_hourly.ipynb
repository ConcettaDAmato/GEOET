{
 "cells": [
  {
   "cell_type": "markdown",
   "metadata": {},
   "source": [
    "# *Hourly Mean Solar Rdiation data*"
   ]
  },
  {
   "cell_type": "code",
   "execution_count": 1,
   "metadata": {
    "collapsed": false,
    "jupyter": {
     "outputs_hidden": false
    }
   },
   "outputs": [],
   "source": [
    "import os\n",
    "from pandas import *\n",
    "import numpy as np\n",
    "import pandas as pd\n",
    "import plotly.express as px\n",
    "import matplotlib.pyplot as plt\n",
    "%matplotlib inline\n",
    "import numpy as np\n",
    "import datetime as datetime\n",
    "from timeseries_writer import *\n",
    "project_path = os.path.dirname(os.getcwd())"
   ]
  },
  {
   "cell_type": "code",
   "execution_count": 3,
   "metadata": {},
   "outputs": [
    {
     "data": {
      "text/plain": [
       "['2_Output_GEOSPACE1DOlive_SoluteTransport_0512_04.ipynb',\n",
       " 'Pressure_cavalese_1718.csv',\n",
       " '.DS_Store',\n",
       " 'LAI_cavalese_1718.csv',\n",
       " 'Soil_moisture_cavalese_1718.csv',\n",
       " 'GHF_cavalese_1718.csv',\n",
       " 'Prospero.sim',\n",
       " '__pycache__',\n",
       " 'RH1hmean_cavalese_1718.csv',\n",
       " 'ShortwaveDiffuse_cavalese_1718.csv',\n",
       " 'wind_cavalese_1718.csv',\n",
       " 'ShortwaveDirect_cavalese_1718.csv',\n",
       " '.ipynb_checkpoints',\n",
       " 'airT_cavalese_1718.csv',\n",
       " 'timeseries_writer.py',\n",
       " 'Net_cavalese_1718.csv',\n",
       " 'Data_SolarRadiation_mean_hourly.ipynb',\n",
       " 'LongDownwelling_cavalese_1718.csv']"
      ]
     },
     "execution_count": 3,
     "metadata": {},
     "output_type": "execute_result"
    }
   ],
   "source": [
    "#os.chdir(project_path+\"/data/OliveTree/1\")\n",
    "os.listdir()"
   ]
  },
  {
   "cell_type": "markdown",
   "metadata": {},
   "source": [
    "### Open dataset"
   ]
  },
  {
   "cell_type": "code",
   "execution_count": 23,
   "metadata": {
    "collapsed": false,
    "jupyter": {
     "outputs_hidden": false
    }
   },
   "outputs": [
    {
     "data": {
      "application/vnd.jupyter.widget-view+json": {
       "model_id": "9aa3e1304300472bb5b68d595751e935",
       "version_major": 2,
       "version_minor": 0
      }
     },
     "metadata": {},
     "output_type": "display_data"
    }
   ],
   "source": [
    "df_15min = pd.read_csv('Soil_moisture_cavalese_1718.csv',skiprows=6,parse_dates=[1])\n",
    "df_15min = df_15min.drop(['Format'],axis=1) \n",
    "df_15min.columns = ['Time','Rad']\n",
    "df_15min.set_index('Time',inplace=True)\n",
    "df_15min"
   ]
  },
  {
   "cell_type": "markdown",
   "metadata": {},
   "source": [
    "### Extracting dataset"
   ]
  },
  {
   "cell_type": "markdown",
   "metadata": {},
   "source": [
    "If you want to select data by time, use this code"
   ]
  },
  {
   "cell_type": "markdown",
   "metadata": {},
   "source": [
    "#crei una serie temporale con le date orarie\n",
    "date_rng=pd.date_range(start='2018-05-10 00:00',end='2018-07-01 00:00',freq='1H')\n",
    "\n",
    "#crei il dataframe con le date\n",
    "df_dates = pd.DataFrame({'Time': date_rng})\n",
    "df_dates.set_index('Time',inplace=True)\n",
    "\n",
    "#estrai dal dataframe di 15 min le date che ti servono\n",
    "df_dates = df_dates.join(df_15min, how='inner')\n",
    "df_dates.head()"
   ]
  },
  {
   "cell_type": "markdown",
   "metadata": {},
   "source": [
    "If you want to create an hourly time series using the mean:"
   ]
  },
  {
   "cell_type": "code",
   "execution_count": 24,
   "metadata": {},
   "outputs": [
    {
     "data": {
      "application/vnd.jupyter.widget-view+json": {
       "model_id": "81e93a0a2a104a58a5b0a7996f413f24",
       "version_major": 2,
       "version_minor": 0
      }
     },
     "metadata": {},
     "output_type": "display_data"
    }
   ],
   "source": [
    "df=df_15min.resample('1H').mean()\n",
    "df"
   ]
  },
  {
   "cell_type": "code",
   "execution_count": 25,
   "metadata": {},
   "outputs": [],
   "source": [
    "ID_basin = 1"
   ]
  },
  {
   "cell_type": "code",
   "execution_count": 26,
   "metadata": {},
   "outputs": [
    {
     "data": {
      "application/vnd.jupyter.widget-view+json": {
       "model_id": "c504eada548d4a03aaccde0aca5893c3",
       "version_major": 2,
       "version_minor": 0
      }
     },
     "metadata": {},
     "output_type": "display_data"
    }
   ],
   "source": [
    "df.reset_index(inplace=True)\n",
    "df"
   ]
  },
  {
   "cell_type": "code",
   "execution_count": 27,
   "metadata": {},
   "outputs": [
    {
     "data": {
      "application/vnd.jupyter.widget-view+json": {
       "model_id": "5b54ccf300ae4f55aa8f83d3ac851455",
       "version_major": 2,
       "version_minor": 0
      }
     },
     "metadata": {},
     "output_type": "display_data"
    }
   ],
   "source": [
    "df.insert(loc=0, column='-', value=np.nan)\n",
    "df.head()"
   ]
  },
  {
   "cell_type": "code",
   "execution_count": 28,
   "metadata": {},
   "outputs": [
    {
     "name": "stdout",
     "output_type": "stream",
     "text": [
      "\n",
      "\n",
      "***SUCCESS writing!  Moisture_1.csv\n"
     ]
    }
   ],
   "source": [
    "write_timeseries_csv(df,'Moisture_1.csv',ID_basin)"
   ]
  },
  {
   "cell_type": "code",
   "execution_count": null,
   "metadata": {},
   "outputs": [],
   "source": []
  }
 ],
 "metadata": {
  "kernelspec": {
   "display_name": "Python 3 (ipykernel)",
   "language": "python",
   "name": "python3"
  },
  "language_info": {
   "codemirror_mode": {
    "name": "ipython",
    "version": 3
   },
   "file_extension": ".py",
   "mimetype": "text/x-python",
   "name": "python",
   "nbconvert_exporter": "python",
   "pygments_lexer": "ipython3",
   "version": "3.7.12"
  }
 },
 "nbformat": 4,
 "nbformat_minor": 4
}
