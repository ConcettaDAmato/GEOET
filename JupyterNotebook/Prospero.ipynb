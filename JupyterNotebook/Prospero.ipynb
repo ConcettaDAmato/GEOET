{
 "cells": [
  {
   "cell_type": "markdown",
   "metadata": {},
   "source": [
    "# **Prospero GEOframe**\n",
    "\n",
    "Authors: Michele Bottazzi & GEOframe group.\n",
    "\n",
    "This work is licensed under a Creative Commons Attribution-NonCommercial 4.0 International License\n",
    "____\n",
    "\n",
    "### *What about Prospero*\n",
    "\n",
    "Bottazzi, Michele. n.d. “[Transpiration Theory and the Prospero Component of GEOframe](https://paperpile.com/shared/yN2wjv).” Supervised by R. Rigon and G. Bertoldi. Ph.D., Civil, Environmental and Mechanical Engineering of University of Trento. \n",
    "\n",
    "More informations http://abouthydrology.blogspot.com/2020/07/michele-bottazzi-phd-thesis.html"
   ]
  },
  {
   "cell_type": "code",
   "execution_count": 1,
   "metadata": {},
   "outputs": [],
   "source": [
    "import os\n",
    "import warnings\n",
    "import datetime\n",
    "import warnings\n",
    "import numpy as np\n",
    "import pandas as pd\n",
    "import xarray as xr\n",
    "from matplotlib import rc\n",
    "import plotly.express as px\n",
    "import matplotlib.pyplot as plt\n",
    "import matplotlib.style as style\n",
    "import matplotlib.dates as mdates\n",
    "from IPython.display import Image\n",
    "from GEOET_Output import*\n",
    "warnings.filterwarnings('ignore')\n",
    "warnings.simplefilter(action='ignore', category=FutureWarning)\n",
    "oms_project_path = os.path.dirname(os.getcwd())"
   ]
  },
  {
   "cell_type": "markdown",
   "metadata": {},
   "source": [
    "## Prospero model Output"
   ]
  },
  {
   "cell_type": "markdown",
   "metadata": {},
   "source": [
    "- Latent heat both for sunlight and shaded canopy [$W/m^{2}$];\n",
    "- Evaporation, Traspiration, Evapotranspiration flux [$W/m^{2}$];\n",
    "- Evapotranspiration [$mm$];\n",
    "- Leaves temperature both for sunlight and shaded canopy [$W/m^{2}$];\n",
    "- Sensible heat both for sunlight and shaded canopy [$W/m^{2}$];\n",
    "- Fraction of highlighted canopy [-];\n",
    "- Shortwave radiation absorbed both for sunlight and shaded canopy [$W/m^{2}$];"
   ]
  },
  {
   "cell_type": "code",
   "execution_count": 3,
   "metadata": {},
   "outputs": [
    {
     "data": {
      "text/plain": [
       "['RadSun_environmentalstress.csv',\n",
       " 'RadSun.csv',\n",
       " 'VPD_totalstress.csv',\n",
       " 'LatentHeatSun_waterstress.csv',\n",
       " 'RadShadow.csv',\n",
       " 'VPD.csv',\n",
       " 'FluxEvaporation15Min.csv',\n",
       " 'actualETPrestleyTaylor.csv',\n",
       " 'sensibleSun.csv',\n",
       " 'LeafTemperatureSun_potential.csv',\n",
       " 'sensibleShadow_totalstress.csv',\n",
       " '.DS_Store',\n",
       " 'FluxETpotentialStressedFAO.csv',\n",
       " 'RadSun_potential.csv',\n",
       " 'Transpiration_potential.csv',\n",
       " 'Evaporation2.csv',\n",
       " 'VPD_waterstress.csv',\n",
       " 'VPD_potential.csv',\n",
       " 'LatentHeatSun_totalstress.csv',\n",
       " 'LeafTemperatureSun.csv',\n",
       " 'sensibleShadow_waterstress.csv',\n",
       " 'Transpiration2.csv',\n",
       " 'LatentHeatShadow_potential.csv',\n",
       " 'FluxTranspiration_potential.csv',\n",
       " 'RadiationSoil_potential.csv',\n",
       " 'Evaporation15Min.csv',\n",
       " 'FluxTranspiration_environmentalstress.csv',\n",
       " 'RadiationSoil_waterstress.csv',\n",
       " 'sensibleShadow_environmentalstress.csv',\n",
       " 'RadiationSoil.csv',\n",
       " 'Canopy.csv',\n",
       " 'Transpiration_environmentalstress.csv',\n",
       " 'FluxTranspiration.csv',\n",
       " 'RadiationSoil_totalstress.csv',\n",
       " 'actualLatentHeatPT.csv',\n",
       " 'ETtotalStressedFAO.csv',\n",
       " 'RadiationSoil_environmentalstress.csv',\n",
       " 'LatentHeatShadow_environmentalstress.csv',\n",
       " 'FluxETtotalStressedFAO.csv',\n",
       " 'sensibleSun_potential.csv',\n",
       " 'LatentHeatSun_potential.csv',\n",
       " 'Evaporation.csv',\n",
       " 'Transpiration_waterstress.csv',\n",
       " 'Canopy_waterstress.csv',\n",
       " 'RadShadow_environmentalstress.csv',\n",
       " 'LeafTemperatureSun_waterstress.csv',\n",
       " 'sensibleShadow_potential.csv',\n",
       " 'Transpiration.csv',\n",
       " 'ETpotentialStressedFAO.csv',\n",
       " 'LeafTemperatureSh.csv',\n",
       " 'FluxEvapoTranspiration15Min.csv',\n",
       " 'testET',\n",
       " 'FluxEvapoTranspiration2.csv',\n",
       " 'Canopy_totalstress.csv',\n",
       " 'FluxTranspiration15Min.csv',\n",
       " 'FluxEvaporation.csv',\n",
       " 'Transpiration_totalstress.csv',\n",
       " 'Transpiration15Min.csv',\n",
       " 'LeafTemperatureSun_totalstress.csv',\n",
       " 'RadShadow_totalstress.csv',\n",
       " 'FluxTranspiration2.csv',\n",
       " 'EvapoTranspiration.csv',\n",
       " 'LatentHeatShadow_totalstress.csv',\n",
       " 'FluxEvapoTranspiration.csv',\n",
       " 'EvapoTranspiration15Min.csv',\n",
       " 'VPD_environmentalstress.csv',\n",
       " 'sensibleSun_totalstress.csv',\n",
       " 'LeafTemperatureSh_totalstress.csv',\n",
       " 'RadSun_waterstress.csv',\n",
       " 'FluxTranspiration_waterstress.csv',\n",
       " 'LeafTemperatureSh_potential.csv',\n",
       " 'Canopy_environmentalstress.csv',\n",
       " 'testProspero',\n",
       " 'sensibleShadow.csv',\n",
       " 'LatentHeatShadow_waterstress.csv',\n",
       " 'sensibleSun_environmentalstress.csv',\n",
       " 'RadShadow_waterstress.csv',\n",
       " 'EvapoTranspiration2.csv',\n",
       " 'RadShadow_potential.csv',\n",
       " 'LatentHeatSun.csv',\n",
       " 'LatentHeatShadow.csv',\n",
       " 'Canopy_potential.csv',\n",
       " 'LatentHeatSun_environmentalstress.csv',\n",
       " 'FluxTranspiration_totalstress.csv',\n",
       " 'ETwaterStressedFAO.csv',\n",
       " 'LeafTemperatureSh_waterstress.csv',\n",
       " 'RadSun_totalstress.csv',\n",
       " 'FluxEvaporation2.csv',\n",
       " 'sensibleSun_waterstress.csv',\n",
       " 'FluxETwaterStressedFAO.csv',\n",
       " 'LeafTemperatureSun_environmentalstress.csv',\n",
       " 'LeafTemperatureSh_environmentalstress.csv']"
      ]
     },
     "execution_count": 3,
     "metadata": {},
     "output_type": "execute_result"
    }
   ],
   "source": [
    "os.chdir(oms_project_path+'/resources/Output')\n",
    "os.listdir()"
   ]
  },
  {
   "cell_type": "markdown",
   "metadata": {},
   "source": [
    "### **Transpiration  $[W m^{−2}]$**"
   ]
  },
  {
   "cell_type": "code",
   "execution_count": null,
   "metadata": {},
   "outputs": [],
   "source": [
    "df2 = pd.read_csv('FluxTranspiration_waterstress.csv',skiprows=6, sep=',', parse_dates=[0], na_values=-9999,usecols=[1,2])\n",
    "df2.columns = ['Datetime','FluxTranspiration']\n",
    "fig = px.line(df2, x='Datetime', y='FluxTranspiration')\n",
    "fig.update_traces(line_color='green')\n",
    "fig.show()"
   ]
  },
  {
   "cell_type": "code",
   "execution_count": null,
   "metadata": {},
   "outputs": [],
   "source": [
    "show_E_T('FluxEvapoTranspiration_1_environmentalstress.csv',\n",
    "         'FluxEvaporation_1_environmentalstress.csv',\n",
    "         'FluxTranspiration_1_environmentalstress.csv')"
   ]
  },
  {
   "cell_type": "code",
   "execution_count": null,
   "metadata": {},
   "outputs": [],
   "source": [
    "show_stress('FluxTranspiration_potential.csv',\n",
    "            'FluxTranspiration_waterstress.csv',\n",
    "            'FluxTranspiration_environmentalstress.csv',\n",
    "            'FluxTranspiration_totalstress.csv')"
   ]
  },
  {
   "cell_type": "code",
   "execution_count": null,
   "metadata": {},
   "outputs": [],
   "source": [
    "df = pd.read_csv('LeafTemperatureSun_totalstress.csv',skiprows=6, sep=',', parse_dates=[0], na_values=-9999,usecols=[1,2])\n",
    "df.columns = ['Datetime','LeafTemperature']\n",
    "fig = px.line(df, x='Datetime', y='LeafTemperature', title='Leaf Temperature Sun [K]')\n",
    "fig.update_traces(line_color='green')\n",
    "fig.show()"
   ]
  },
  {
   "cell_type": "code",
   "execution_count": null,
   "metadata": {},
   "outputs": [],
   "source": [
    "df = pd.read_csv('LeafTemperatureSh_totalstress.csv',skiprows=6, sep=',', parse_dates=[0], na_values=-9999,usecols=[1,2])\n",
    "df.columns = ['Datetime','LeafTemperature']\n",
    "fig = px.line(df, x='Datetime', y='LeafTemperature', title='Leaf Temperature Shadow [K]')\n",
    "fig.update_traces(line_color='green')\n",
    "fig.show()"
   ]
  }
 ],
 "metadata": {
  "kernelspec": {
   "display_name": "Python 3 (ipykernel)",
   "language": "python",
   "name": "python3"
  },
  "language_info": {
   "codemirror_mode": {
    "name": "ipython",
    "version": 3
   },
   "file_extension": ".py",
   "mimetype": "text/x-python",
   "name": "python",
   "nbconvert_exporter": "python",
   "pygments_lexer": "ipython3",
   "version": "3.7.12"
  }
 },
 "nbformat": 4,
 "nbformat_minor": 4
}
