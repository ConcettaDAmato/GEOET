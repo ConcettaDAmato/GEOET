{
 "cells": [
  {
   "cell_type": "markdown",
   "metadata": {},
   "source": [
    "# Time Series Creator\n",
    "    - Author Concetta D'Amato\n",
    "    - Licence Creative Commons 4.0"
   ]
  },
  {
   "cell_type": "code",
   "execution_count": 1,
   "metadata": {},
   "outputs": [],
   "source": [
    "import os\n",
    "import numpy as np\n",
    "import pandas as pd\n",
    "import calendar\n",
    "import matplotlib.pyplot as plt\n",
    "import matplotlib.dates as mdates\n",
    "from timeseries_writer import *\n",
    "from netCDF4 import Dataset\n",
    "import matplotlib.ticker as mtick\n",
    "import gf\n",
    "import time\n",
    "import datetime\n",
    "from pandas.plotting import register_matplotlib_converters\n",
    "register_matplotlib_converters()\n",
    "oms_project_path = os.path.dirname(os.getcwd())"
   ]
  },
  {
   "cell_type": "markdown",
   "metadata": {},
   "source": [
    "## Create Date Time Index\n",
    "\n",
    "To create the timeseries it is possible to use the method `pandas.date_range()`\n",
    "\n",
    "The timeseries can be specified by defining the start date `start` and the end date `end`, or the start date `start` and the number of periods `periods`.\n",
    "\n",
    "The frequency is defined by `freq`:\n",
    "- `D` daily;\n",
    "- `H` hourly;\n",
    "- `T` minutes;"
   ]
  },
  {
   "cell_type": "code",
   "execution_count": 2,
   "metadata": {},
   "outputs": [
    {
     "data": {
      "text/plain": [
       "DatetimeIndex(['2013-12-15 00:00:00', '2013-12-15 01:00:00',\n",
       "               '2013-12-15 02:00:00', '2013-12-15 03:00:00',\n",
       "               '2013-12-15 04:00:00', '2013-12-15 05:00:00',\n",
       "               '2013-12-15 06:00:00', '2013-12-15 07:00:00',\n",
       "               '2013-12-15 08:00:00', '2013-12-15 09:00:00',\n",
       "               ...\n",
       "               '2015-12-15 15:00:00', '2015-12-15 16:00:00',\n",
       "               '2015-12-15 17:00:00', '2015-12-15 18:00:00',\n",
       "               '2015-12-15 19:00:00', '2015-12-15 20:00:00',\n",
       "               '2015-12-15 21:00:00', '2015-12-15 22:00:00',\n",
       "               '2015-12-15 23:00:00', '2015-12-16 00:00:00'],\n",
       "              dtype='datetime64[ns]', length=17545, freq='H')"
      ]
     },
     "execution_count": 2,
     "metadata": {},
     "output_type": "execute_result"
    }
   ],
   "source": [
    "date_rng = pd.date_range(start='15/12/2013 00:00', end='16/12/2015 00:00' , freq='1H')\n",
    "date_rng"
   ]
  },
  {
   "cell_type": "markdown",
   "metadata": {},
   "source": [
    "## Create data"
   ]
  },
  {
   "cell_type": "code",
   "execution_count": 8,
   "metadata": {},
   "outputs": [],
   "source": [
    "d=len(date_rng)\n",
    "dataframe = np.zeros(d)\n",
    "#set the minimum value of time series m\n",
    "m=0.05\n",
    "#set the maximum value of time series M\n",
    "M=0.2\n",
    "for i in range(0,d):\n",
    "    #create a time series with a costant value\n",
    "    dataframe[i] = 0.18\n",
    "    \n",
    "    #create a sinusoidal timeseries\n",
    "    #dataframe[i] = (m+M)/2 + ((m+M)/2-m)*np.sin(2*np.pi/(365*24)*i)"
   ]
  },
  {
   "cell_type": "code",
   "execution_count": 9,
   "metadata": {},
   "outputs": [
    {
     "data": {
      "text/html": [
       "<div>\n",
       "<style scoped>\n",
       "    .dataframe tbody tr th:only-of-type {\n",
       "        vertical-align: middle;\n",
       "    }\n",
       "\n",
       "    .dataframe tbody tr th {\n",
       "        vertical-align: top;\n",
       "    }\n",
       "\n",
       "    .dataframe thead th {\n",
       "        text-align: right;\n",
       "    }\n",
       "</style>\n",
       "<table border=\"1\" class=\"dataframe\">\n",
       "  <thead>\n",
       "    <tr style=\"text-align: right;\">\n",
       "      <th></th>\n",
       "      <th>-</th>\n",
       "      <th>date</th>\n",
       "      <th>Prec</th>\n",
       "    </tr>\n",
       "  </thead>\n",
       "  <tbody>\n",
       "    <tr>\n",
       "      <th>0</th>\n",
       "      <td>NaN</td>\n",
       "      <td>2013-12-15 00:00:00</td>\n",
       "      <td>0.18</td>\n",
       "    </tr>\n",
       "    <tr>\n",
       "      <th>1</th>\n",
       "      <td>NaN</td>\n",
       "      <td>2013-12-15 01:00:00</td>\n",
       "      <td>0.18</td>\n",
       "    </tr>\n",
       "    <tr>\n",
       "      <th>2</th>\n",
       "      <td>NaN</td>\n",
       "      <td>2013-12-15 02:00:00</td>\n",
       "      <td>0.18</td>\n",
       "    </tr>\n",
       "    <tr>\n",
       "      <th>3</th>\n",
       "      <td>NaN</td>\n",
       "      <td>2013-12-15 03:00:00</td>\n",
       "      <td>0.18</td>\n",
       "    </tr>\n",
       "    <tr>\n",
       "      <th>4</th>\n",
       "      <td>NaN</td>\n",
       "      <td>2013-12-15 04:00:00</td>\n",
       "      <td>0.18</td>\n",
       "    </tr>\n",
       "  </tbody>\n",
       "</table>\n",
       "</div>"
      ],
      "text/plain": [
       "    -                date  Prec\n",
       "0 NaN 2013-12-15 00:00:00  0.18\n",
       "1 NaN 2013-12-15 01:00:00  0.18\n",
       "2 NaN 2013-12-15 02:00:00  0.18\n",
       "3 NaN 2013-12-15 03:00:00  0.18\n",
       "4 NaN 2013-12-15 04:00:00  0.18"
      ]
     },
     "execution_count": 9,
     "metadata": {},
     "output_type": "execute_result"
    }
   ],
   "source": [
    "dfOut = pd.DataFrame(date_rng, columns=['date'])\n",
    "dfOut['Prec'] = dataframe\n",
    "dfOut.insert(loc=0, column='-', value=np.nan)\n",
    "dfOut.head()"
   ]
  },
  {
   "cell_type": "code",
   "execution_count": 10,
   "metadata": {},
   "outputs": [
    {
     "name": "stderr",
     "output_type": "stream",
     "text": [
      "/Users/concettadamato/opt/anaconda3/envs/geoframe_rossano/lib/python3.7/site-packages/ipykernel_launcher.py:3: MatplotlibDeprecationWarning: Case-insensitive properties were deprecated in 3.3 and support will be removed two minor releases later\n",
      "  This is separate from the ipykernel package so we can avoid doing imports until\n"
     ]
    },
    {
     "data": {
      "image/png": "[encoded data removed]",
      "text/plain": [
       "<Figure size 720x360 with 1 Axes>"
      ]
     },
     "metadata": {
      "needs_background": "light"
     },
     "output_type": "display_data"
    }
   ],
   "source": [
    "fig = plt.figure(figsize=(10,5))\n",
    "ax = plt.subplot(111)\n",
    "plt.plot(dfOut['date'],dfOut['Prec'], lineWidth =3)\n",
    "plt.xlabel('Date',fontsize=14)\n",
    "plt.ylabel('Prec [-]',fontsize=14)   \n",
    "plt.title('Prec',fontsize=18)\n",
    "fig.autofmt_xdate()\n",
    "ax.xaxis.set_major_formatter(mdates.DateFormatter('%Y-%m-%d %H:%M'))\n",
    "xlabels = ax.get_xticklabels()\n",
    "ax.xaxis.get_major_ticks()\n",
    "for label in xlabels:\n",
    "    label.set_rotation(75)\n",
    "    label.set_fontsize(12)\n",
    "plt.grid()\n",
    "plt.show()\n"
   ]
  },
  {
   "cell_type": "markdown",
   "metadata": {},
   "source": [
    "# Save to a .csv file"
   ]
  },
  {
   "cell_type": "code",
   "execution_count": 11,
   "metadata": {},
   "outputs": [],
   "source": [
    "os.chdir(oms_project_path+\"/data/Cavone/1\")\n",
    "#os.listdir()"
   ]
  },
  {
   "cell_type": "code",
   "execution_count": 12,
   "metadata": {},
   "outputs": [
    {
     "name": "stdout",
     "output_type": "stream",
     "text": [
      "\n",
      "\n",
      "***SUCCESS writing!  SoilMoisture18.csv\n"
     ]
    }
   ],
   "source": [
    "write_timeseries_csv(dfOut,'SoilMoisture18.csv')"
   ]
  },
  {
   "cell_type": "code",
   "execution_count": null,
   "metadata": {},
   "outputs": [],
   "source": []
  }
 ],
 "metadata": {
  "kernelspec": {
   "display_name": "Python 3",
   "language": "python",
   "name": "python3"
  },
  "language_info": {
   "codemirror_mode": {
    "name": "ipython",
    "version": 3
   },
   "file_extension": ".py",
   "mimetype": "text/x-python",
   "name": "python",
   "nbconvert_exporter": "python",
   "pygments_lexer": "ipython3",
   "version": "3.7.10"
  }
 },
 "nbformat": 4,
 "nbformat_minor": 4
}
